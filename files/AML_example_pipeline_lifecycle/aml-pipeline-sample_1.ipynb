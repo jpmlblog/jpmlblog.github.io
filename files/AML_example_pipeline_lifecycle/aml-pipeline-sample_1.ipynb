{
  "cells": [
    {
      "cell_type": "markdown",
      "source": [
        "Copyright (c) Microsoft Corporation. All rights reserved.  \n",
        "Licensed under the MIT License."
      ],
      "metadata": {}
    },
    {
      "cell_type": "markdown",
      "source": [
        "# Azure Machine Learning Pipeline with AutoMLStep\n",
        "This notebook demonstrates the use of AutoMLStep in Azure Machine Learning Pipeline."
      ],
      "metadata": {}
    },
    {
      "cell_type": "code",
      "source": [
        "# SDK バージョンを確認します。定期的に pip install --upgrade azureml-core を実行し、最新に保つことを推奨します。\n",
        "\n",
        "import azureml.core\n",
        "print(\"SDK version:\", azureml.core.VERSION)"
      ],
      "outputs": [],
      "execution_count": null,
      "metadata": {
        "gather": {
          "logged": 1634663167851
        }
      }
    },
    {
      "cell_type": "markdown",
      "source": [
        "## Initialize Workspace"
      ],
      "metadata": {}
    },
    {
      "cell_type": "code",
      "source": [
        "# ワークスペース情報を取得します。\n",
        "\n",
        "from azureml.core.workspace import Workspace\n",
        "\n",
        "ws = Workspace.from_config()\n",
        "print(ws.name, ws.resource_group, ws.location, ws.subscription_id, sep = '\\n')"
      ],
      "outputs": [],
      "execution_count": null,
      "metadata": {
        "gather": {
          "logged": 1634663169048
        }
      }
    },
    {
      "cell_type": "markdown",
      "source": [
        "## Create an Azure ML experiment"
      ],
      "metadata": {}
    },
    {
      "cell_type": "code",
      "source": [
        "# 実験名を定義します。\n",
        "\n",
        "from azureml.core.experiment import Experiment\n",
        "\n",
        "experiment_name = 'pipeline-cycle-test'\n",
        "\n",
        "experiment = Experiment(ws, experiment_name)\n",
        "experiment"
      ],
      "outputs": [],
      "execution_count": null,
      "metadata": {
        "gather": {
          "logged": 1634663169261
        }
      }
    },
    {
      "cell_type": "markdown",
      "source": [
        "## Create or Attach an AmlCompute cluster"
      ],
      "metadata": {}
    },
    {
      "cell_type": "code",
      "source": [
        "# パイプラインの作成、実行するコンピューティング クラスターを作成します。既に存在する場合は作成せずスキップします。\n",
        "\n",
        "from azureml.core.compute import AmlCompute, ComputeTarget\n",
        "from azureml.core.compute_target import ComputeTargetException\n",
        "\n",
        "amlcompute_cluster_name = \"cpu-cluster\"\n",
        "\n",
        "try:\n",
        "    compute_target = ComputeTarget(workspace=ws, name=amlcompute_cluster_name)\n",
        "    print('Found existing cluster, use it.')\n",
        "\n",
        "except ComputeTargetException:\n",
        "    compute_config = AmlCompute.provisioning_configuration(vm_size='STANDARD_DS12_V2', max_nodes=4)\n",
        "    compute_target = ComputeTarget.create(ws, amlcompute_cluster_name, compute_config)\n",
        "    compute_target.wait_for_completion(show_output=True, min_node_count = 1, timeout_in_minutes = 10)"
      ],
      "outputs": [],
      "execution_count": null,
      "metadata": {
        "gather": {
          "logged": 1634663169591
        }
      }
    },
    {
      "cell_type": "markdown",
      "source": [
        "## Prepare DataSet"
      ],
      "metadata": {}
    },
    {
      "cell_type": "code",
      "source": [
        "# ストレージ アカウント上のファイルを読み込んでデータセットを作成します。\n",
        "# ラベル列はも併せて指定します。\n",
        "\n",
        "from azureml.core import Datastore\n",
        "from azureml.core.dataset import Dataset\n",
        "\n",
        "datastore = ws.get_default_datastore()\n",
        "dataset = Dataset.Tabular.from_delimited_files(path=(datastore,'Datasets/machineData.csv'))\n",
        "label_column = 'ERP'"
      ],
      "outputs": [],
      "execution_count": null,
      "metadata": {
        "gather": {
          "logged": 1634663174638
        }
      }
    },
    {
      "cell_type": "code",
      "source": [
        "# データセットの内容を一部表示します。\r\n",
        "\r\n",
        "dataset.to_pandas_dataframe().info()\r\n",
        "dataset.to_pandas_dataframe().head()"
      ],
      "outputs": [],
      "execution_count": null,
      "metadata": {
        "gather": {
          "logged": 1634663175007
        }
      }
    },
    {
      "cell_type": "markdown",
      "source": [
        "## Define AutoML Step"
      ],
      "metadata": {}
    },
    {
      "cell_type": "code",
      "source": [
        "# 自動機械学習用ステップの実行条件を AutMLConfig で定義します。\n",
        "\n",
        "from azureml.train.automl import AutoMLConfig\n",
        "\n",
        "automl_settings = {\n",
        "    \"n_cross_validations\": 3,\n",
        "    \"primary_metric\": 'r2_score',\n",
        "    \"enable_early_stopping\": True, \n",
        "    \"experiment_timeout_hours\": 0.3,\n",
        "    \"iterations\": 1,\n",
        "    \"max_concurrent_iterations\": 4,\n",
        "    \"max_cores_per_iteration\": -1\n",
        "}\n",
        "\n",
        "automl_config = AutoMLConfig(task = 'regression',\n",
        "                             allowed_models=['XGBoostRegressor'],\n",
        "                             compute_target = compute_target,\n",
        "                             training_data = dataset,\n",
        "                             label_column_name = label_column,\n",
        "                             enable_voting_ensemble=False,\n",
        "                             enable_stack_ensemble=False,\n",
        "                             **automl_settings\n",
        ")"
      ],
      "outputs": [],
      "execution_count": null,
      "metadata": {
        "gather": {
          "logged": 1634663175195
        }
      }
    },
    {
      "cell_type": "code",
      "source": [
        "# 後続のステップに自動機械学習結果 (Metrics) を引き継ぐよう、PipeLineData を定義します。\n",
        "\n",
        "from azureml.pipeline.core import TrainingOutput, PipelineData\n",
        "\n",
        "metrics_data = PipelineData(name='metrics_data',\n",
        "                            datastore=datastore,\n",
        "                            pipeline_output_name='metrics_output',\n",
        "                            training_output=TrainingOutput(type='Metrics'))"
      ],
      "outputs": [],
      "execution_count": null,
      "metadata": {
        "gather": {
          "logged": 1634663175383
        }
      }
    },
    {
      "cell_type": "code",
      "source": [
        "# AutMLConfig と PipeLineData を指定して自動機械学習用ステップ AutoMLStep を定義します。\n",
        "\n",
        "from azureml.pipeline.steps import AutoMLStep\n",
        "\n",
        "automl_step = AutoMLStep(\n",
        "    name='automl_regression',\n",
        "    automl_config=automl_config,\n",
        "    enable_default_model_output=False,\n",
        "    enable_default_metrics_output=False,\n",
        "    outputs=[metrics_data],\n",
        "    allow_reuse=False)"
      ],
      "outputs": [],
      "execution_count": null,
      "metadata": {
        "tags": [
          "automlstep-remarks-sample1"
        ],
        "gather": {
          "logged": 1634663175565
        }
      }
    },
    {
      "cell_type": "markdown",
      "source": [
        "## Define Register ACI Endpoint Step"
      ],
      "metadata": {
        "nteract": {
          "transient": {
            "deleting": false
          }
        }
      }
    },
    {
      "cell_type": "code",
      "source": [
        "%%writefile register_model.py\r\n",
        "# モデルを登録するスクリプトです。\r\n",
        "from azureml.core import Workspace, Experiment ,Environment\r\n",
        "from azureml.core.model import Model, Dataset, InferenceConfig\r\n",
        "from azureml.core.run import Run, _OfflineRun\r\n",
        "from azureml.core.webservice import AciWebservice\r\n",
        "from azureml.exceptions import WebserviceException\r\n",
        "import json\r\n",
        "import argparse\r\n",
        "\r\n",
        "# 引数の読み込み\r\n",
        "parser = argparse.ArgumentParser()\r\n",
        "parser.add_argument(\"--model_name\", required=True)\r\n",
        "parser.add_argument(\"--metrics_data\", required=True)\r\n",
        "parser.add_argument(\"--primary_metric\", required=True)\r\n",
        "parser.add_argument(\"--aciservice_name\", required=True)\r\n",
        "args = parser.parse_args()\r\n",
        "\r\n",
        "print(f\"model_name : {args.model_name}\")\r\n",
        "print(f\"metrics_data : {args.metrics_data}\")\r\n",
        "print(f\"primary_metric : {args.primary_metric}\")\r\n",
        "print(f\"aciservice_name : {args.aciservice_name}\")\r\n",
        "\r\n",
        "run = Run.get_context()\r\n",
        "ws = Workspace.from_config() if type(run) == _OfflineRun else run.experiment.workspace\r\n",
        "\r\n",
        "# 自動機械学習結果の読み込んでプライマリ メトリックの最大または最小値を取得\r\n",
        "with open(args.metrics_data) as f:\r\n",
        "    j = json.load(f)\r\n",
        "\r\n",
        "def key_func(n):\r\n",
        "    return n[args.primary_metric]\r\n",
        "\r\n",
        "if args.primary_metric == \"r2_score\":\r\n",
        "    a = max(j.values(), key=key_func)[args.primary_metric]\r\n",
        "else:\r\n",
        "    a = min(j.values(), key=key_func)[args.primary_metric]\r\n",
        "\r\n",
        "# 上述で取得したプライマリ メトリックの値を持つ実行 ID を特定\r\n",
        "count = 0\r\n",
        "best_runid = \"\"\r\n",
        "while count < len(j):\r\n",
        "    b = list(j.values())[count][args.primary_metric]\r\n",
        "    c = list(j.keys())[count]\r\n",
        "    if a == b:\r\n",
        "        best_runid = c\r\n",
        "    count += 1\r\n",
        "\r\n",
        "print(f\"best_runid : {best_runid}\")\r\n",
        "\r\n",
        "experiment = Experiment(workspace=ws, name=\"automl_test_model\")\r\n",
        "\r\n",
        "best_run = Run(experiment=experiment, run_id=best_runid)\r\n",
        "\r\n",
        "# 特定した実行 ID で生成されたモデル ファイル、依存関係ファイル、エントリ スクリプトをダウンロードしてモデル登録\r\n",
        "best_run.download_file('outputs/scoring_file_v_1_0_0.py', './score.py')\r\n",
        "best_run.download_file('outputs/conda_env_v_1_0_0.yml', './env.yml')\r\n",
        "best_run.download_file('outputs/model.pkl', './model.pkl')\r\n",
        "\r\n",
        "model = Model.register(workspace=ws,\r\n",
        "                       model_path=\"./model.pkl\",\r\n",
        "                       model_name=args.model_name)\r\n",
        "\r\n",
        "print(\"Registered version {0} of model {1}\".format(model.version, model.name))\r\n",
        "\r\n",
        "environment = Environment.from_conda_specification('automlenv', file_path=\"./env.yml\")\r\n",
        "\r\n",
        "# 既に同じ名前の ACI Web エンドポイントが存在する場合には更新、存在しない場合にはエンドポイントを作成\r\n",
        "try:\r\n",
        "    service = AciWebservice(name=args.aciservice_name, workspace=ws)\r\n",
        "    print('Found existing service, update it.')\r\n",
        "    inference_config = InferenceConfig(entry_script='./score.py', environment=environment)\r\n",
        "    service.update(models=[model], inference_config=inference_config)\r\n",
        "\r\n",
        "except WebserviceException:\r\n",
        "    inference_config = InferenceConfig(entry_script='./score.py', environment=environment)\r\n",
        "    aci_config = AciWebservice.deploy_configuration(cpu_cores=1.8, memory_gb=4)\r\n",
        "    service = Model.deploy(workspace=ws,\r\n",
        "                           name=args.aciservice_name,\r\n",
        "                           models=[model],\r\n",
        "                           inference_config=inference_config,\r\n",
        "                           deployment_config=aci_config,\r\n",
        "                           overwrite=True)\r\n",
        "\r\n",
        "service.wait_for_deployment(show_output=True)\r\n",
        "\r\n",
        "print(service.state)"
      ],
      "outputs": [],
      "execution_count": null,
      "metadata": {
        "jupyter": {
          "source_hidden": false,
          "outputs_hidden": false
        },
        "nteract": {
          "transient": {
            "deleting": false
          }
        },
        "gather": {
          "logged": 1634662041018
        }
      }
    },
    {
      "cell_type": "code",
      "source": [
        "# モデル登録ステップを定義します。\r\n",
        "# PipelineParameter としてモデル名、プライマリ メトリック、ACI Web エンドポイントの名前をパイプライン実行と毎に指定できるようにします。\r\n",
        "\r\n",
        "from azureml.core.runconfig import RunConfiguration\r\n",
        "from azureml.pipeline.core.graph import PipelineParameter\r\n",
        "from azureml.pipeline.steps import PythonScriptStep\r\n",
        "\r\n",
        "aml_run_config = RunConfiguration()\r\n",
        "\r\n",
        "model_name = PipelineParameter(\"model_name\", default_value=\"automlmodel\")\r\n",
        "primary_metric = PipelineParameter(\"primary_metric\", default_value=\"r2_score\")\r\n",
        "aciservice_name = PipelineParameter(\"aciservice_name\", default_value=\"aciservice\")\r\n",
        "\r\n",
        "register_step = PythonScriptStep(script_name=\"register_model.py\",\r\n",
        "                                 name=\"register_model\",\r\n",
        "                                 allow_reuse=True,\r\n",
        "                                 arguments=[\r\n",
        "                                    \"--model_name\", model_name,\r\n",
        "                                    \"--metrics_data\", metrics_data,\r\n",
        "                                    \"--primary_metric\", primary_metric,\r\n",
        "                                    \"--aciservice_name\", aciservice_name\r\n",
        "                                 ],\r\n",
        "                                 inputs=[metrics_data],\r\n",
        "                                 compute_target=compute_target,\r\n",
        "                                 runconfig=aml_run_config)"
      ],
      "outputs": [],
      "execution_count": null,
      "metadata": {
        "jupyter": {
          "source_hidden": false,
          "outputs_hidden": false
        },
        "nteract": {
          "transient": {
            "deleting": false
          }
        },
        "gather": {
          "logged": 1634663176099
        }
      }
    },
    {
      "cell_type": "markdown",
      "source": [
        "## Create Pipeline"
      ],
      "metadata": {
        "nteract": {
          "transient": {
            "deleting": false
          }
        }
      }
    },
    {
      "cell_type": "code",
      "source": [
        "# パイプラインを作成します。\n",
        "\n",
        "from azureml.pipeline.core import Pipeline\n",
        "\n",
        "pipeline = Pipeline(\n",
        "    description=\"pipeline_with_automlstep\",\n",
        "    workspace=ws,    \n",
        "    steps=[automl_step, register_step])"
      ],
      "outputs": [],
      "execution_count": null,
      "metadata": {
        "tags": [
          "automlstep-remarks-sample2"
        ],
        "gather": {
          "logged": 1634663176786
        }
      }
    },
    {
      "cell_type": "markdown",
      "source": [
        "## Run"
      ],
      "metadata": {
        "nteract": {
          "transient": {
            "deleting": false
          }
        }
      }
    },
    {
      "cell_type": "code",
      "source": [
        "# 作成したパイプラインを実行します。\r\n",
        "\r\n",
        "pipeline_run = experiment.submit(pipeline)"
      ],
      "outputs": [],
      "execution_count": null,
      "metadata": {
        "gather": {
          "logged": 1634663181648
        }
      }
    },
    {
      "cell_type": "code",
      "source": [
        "# 実行結果をモニターします。\n",
        "\n",
        "from azureml.widgets import RunDetails\n",
        "RunDetails(pipeline_run).show()"
      ],
      "outputs": [],
      "execution_count": null,
      "metadata": {
        "gather": {
          "logged": 1634663181905
        }
      }
    },
    {
      "cell_type": "code",
      "source": [
        "# パイプライン実行の完了を待ちます。\r\n",
        "\r\n",
        "pipeline_run.wait_for_completion()"
      ],
      "outputs": [],
      "execution_count": null,
      "metadata": {
        "gather": {
          "logged": 1634664099620
        }
      }
    }
  ],
  "metadata": {
    "order_index": 11,
    "exclude_from_index": false,
    "task": "Demonstrates the use of AutoMLStep",
    "deployment": [
      "None"
    ],
    "authors": [
      {
        "name": "anshirga"
      }
    ],
    "star_tag": [
      "featured"
    ],
    "microsoft": {
      "host": {
        "AzureML": {
          "notebookHasBeenCompleted": true
        }
      }
    },
    "kernel_info": {
      "name": "python3-azureml"
    },
    "language_info": {
      "name": "python",
      "version": "3.6.9",
      "mimetype": "text/x-python",
      "codemirror_mode": {
        "name": "ipython",
        "version": 3
      },
      "pygments_lexer": "ipython3",
      "nbconvert_exporter": "python",
      "file_extension": ".py"
    },
    "compute": [
      "AML Compute"
    ],
    "kernelspec": {
      "name": "python3-azureml",
      "language": "python",
      "display_name": "Python 3.6 - AzureML"
    },
    "tags": [
      "None"
    ],
    "datasets": [
      "Custom"
    ],
    "categories": [
      "how-to-use-azureml",
      "machine-learning-pipelines",
      "intro-to-pipelines"
    ],
    "category": "tutorial",
    "framework": [
      "Automated Machine Learning"
    ],
    "friendly_name": "How to use AutoMLStep with AML Pipelines",
    "nteract": {
      "version": "nteract-front-end@1.0.0"
    }
  },
  "nbformat": 4,
  "nbformat_minor": 0
}